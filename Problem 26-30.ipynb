{
 "cells": [
  {
   "cell_type": "markdown",
   "metadata": {},
   "source": [
    "# Python Practice Book 26-30"
   ]
  },
  {
   "cell_type": "markdown",
   "metadata": {},
   "source": [
    "# Pongsagul Boonrub 3 Oct 2020."
   ]
  },
  {
   "cell_type": "markdown",
   "metadata": {},
   "source": [
    "# Problem 26"
   ]
  },
  {
   "cell_type": "code",
   "execution_count": 58,
   "metadata": {},
   "outputs": [
    {
     "name": "stdout",
     "output_type": "stream",
     "text": [
      "Max : 20\n",
      "Min : 2\n"
     ]
    }
   ],
   "source": [
    "def maxD(list) :\n",
    "    max = list[0]\n",
    "    for i in list :\n",
    "        if max < i :\n",
    "            max = i\n",
    "    return max\n",
    "def minD(list) :\n",
    "    min = list[0]\n",
    "    for i in list :\n",
    "        if min > i :\n",
    "            min = i\n",
    "    return min    \n",
    "list = [3,5,7,9,2,4,6,8,20]\n",
    "#print(maxD(list))\n",
    "#print(minD(list))\n",
    "print(\"Max : {}\".format(maxD(list)))\n",
    "print(\"Min : {}\".format(minD(list)))"
   ]
  },
  {
   "cell_type": "code",
   "execution_count": 20,
   "metadata": {},
   "outputs": [
    {
     "data": {
      "text/plain": [
       "'c'"
      ]
     },
     "execution_count": 20,
     "metadata": {},
     "output_type": "execute_result"
    }
   ],
   "source": [
    "maxD([\"a\",\"b\",\"c\"])"
   ]
  },
  {
   "cell_type": "code",
   "execution_count": 21,
   "metadata": {},
   "outputs": [
    {
     "data": {
      "text/plain": [
       "'a'"
      ]
     },
     "execution_count": 21,
     "metadata": {},
     "output_type": "execute_result"
    }
   ],
   "source": [
    "minD([\"a\",\"b\",\"c\"])"
   ]
  },
  {
   "cell_type": "markdown",
   "metadata": {},
   "source": [
    "# Problem 27"
   ]
  },
  {
   "cell_type": "code",
   "execution_count": 22,
   "metadata": {},
   "outputs": [
    {
     "name": "stdout",
     "output_type": "stream",
     "text": [
      "[1, 2, 3, 4] [4, 3, 2, 1]\n"
     ]
    }
   ],
   "source": [
    "listA = [1,2,3,4]\n",
    "listB = [4,3,2,1]\n",
    "print(listA,listB)"
   ]
  },
  {
   "cell_type": "code",
   "execution_count": 36,
   "metadata": {},
   "outputs": [],
   "source": [
    "def cumuSum(listIn) :\n",
    "    cumuValue = listIn[0]\n",
    "    cumuList = []\n",
    "    cumuList.append(cumuValue)\n",
    "    for i in range(1, len(listIn)) :\n",
    "        cumuValue = cumuValue + listIn[i]\n",
    "        cumuList.append(cumuValue)\n",
    "    return cumuList"
   ]
  },
  {
   "cell_type": "code",
   "execution_count": 37,
   "metadata": {},
   "outputs": [
    {
     "data": {
      "text/plain": [
       "[1, 3, 6, 10]"
      ]
     },
     "execution_count": 37,
     "metadata": {},
     "output_type": "execute_result"
    }
   ],
   "source": [
    "cumuSum(listA)"
   ]
  },
  {
   "cell_type": "code",
   "execution_count": 38,
   "metadata": {},
   "outputs": [
    {
     "data": {
      "text/plain": [
       "[4, 7, 9, 10]"
      ]
     },
     "execution_count": 38,
     "metadata": {},
     "output_type": "execute_result"
    }
   ],
   "source": [
    "cumuSum(listB)"
   ]
  },
  {
   "cell_type": "markdown",
   "metadata": {},
   "source": [
    "# Problem 28"
   ]
  },
  {
   "cell_type": "code",
   "execution_count": 39,
   "metadata": {},
   "outputs": [],
   "source": [
    "def cumuProduct(listIn) :\n",
    "    cumuValue = listIn[0]\n",
    "    cumuList = []\n",
    "    cumuList.append(cumuValue)\n",
    "    for i in range(1, len(listIn)) :\n",
    "        cumuValue = cumuValue + listIn[i]\n",
    "        cumuList.append(cumuValue)\n",
    "    return cumuList"
   ]
  },
  {
   "cell_type": "code",
   "execution_count": 40,
   "metadata": {},
   "outputs": [
    {
     "data": {
      "text/plain": [
       "[1, 3, 6, 10]"
      ]
     },
     "execution_count": 40,
     "metadata": {},
     "output_type": "execute_result"
    }
   ],
   "source": [
    "cumuProduct(listA)"
   ]
  },
  {
   "cell_type": "code",
   "execution_count": 41,
   "metadata": {},
   "outputs": [
    {
     "data": {
      "text/plain": [
       "[4, 7, 9, 10]"
      ]
     },
     "execution_count": 41,
     "metadata": {},
     "output_type": "execute_result"
    }
   ],
   "source": [
    "cumuProduct(listB)"
   ]
  },
  {
   "cell_type": "markdown",
   "metadata": {},
   "source": [
    "# Problem 29"
   ]
  },
  {
   "cell_type": "code",
   "execution_count": 44,
   "metadata": {},
   "outputs": [],
   "source": [
    "def findUnique(listIn) :\n",
    "    uniqueValue = listIn[0]\n",
    "    uniqueList = []\n",
    "    uniqueList.append(uniqueValue)\n",
    "    for i in range(1, len(listIn)) :\n",
    "        uniquecheck = 0\n",
    "        uniqueValue = listIn[i]\n",
    "        for j in uniqueList:\n",
    "            if j == uniqueValue :\n",
    "                uniquecheck = 1\n",
    "        if uniquecheck == 0 :\n",
    "            uniqueList.append(uniqueValue)\n",
    "    return uniqueList "
   ]
  },
  {
   "cell_type": "code",
   "execution_count": 45,
   "metadata": {},
   "outputs": [
    {
     "data": {
      "text/plain": [
       "[1, 2, 3, 5]"
      ]
     },
     "execution_count": 45,
     "metadata": {},
     "output_type": "execute_result"
    }
   ],
   "source": [
    "findUnique([1,2,1,3,2,5])"
   ]
  },
  {
   "cell_type": "markdown",
   "metadata": {},
   "source": [
    "# Problem 30 "
   ]
  },
  {
   "cell_type": "code",
   "execution_count": 68,
   "metadata": {},
   "outputs": [],
   "source": [
    "def findDuplicate(listIn):\n",
    "    duplicateList = []\n",
    "    for i in range(len(listIn)) :\n",
    "        for j in range(i+1, len(listIn)) :\n",
    "            if listIn[j] == listIn[i] :\n",
    "                duplicateList.append(listIn[j])\n",
    "    return findUnique(duplicateList)"
   ]
  },
  {
   "cell_type": "code",
   "execution_count": 69,
   "metadata": {},
   "outputs": [
    {
     "data": {
      "text/plain": [
       "[1, 2]"
      ]
     },
     "execution_count": 69,
     "metadata": {},
     "output_type": "execute_result"
    }
   ],
   "source": [
    "findDuplicate([1,2,1,3,2,5])"
   ]
  }
 ],
 "metadata": {
  "kernelspec": {
   "display_name": "Python 3",
   "language": "python",
   "name": "python3"
  },
  "language_info": {
   "codemirror_mode": {
    "name": "ipython",
    "version": 3
   },
   "file_extension": ".py",
   "mimetype": "text/x-python",
   "name": "python",
   "nbconvert_exporter": "python",
   "pygments_lexer": "ipython3",
   "version": "3.6.8"
  }
 },
 "nbformat": 4,
 "nbformat_minor": 4
}
