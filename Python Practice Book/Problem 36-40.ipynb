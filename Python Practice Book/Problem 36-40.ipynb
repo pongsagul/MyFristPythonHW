{
 "cells": [
  {
   "cell_type": "markdown",
   "metadata": {},
   "source": [
    "# Python Practice Book 36-40"
   ]
  },
  {
   "cell_type": "markdown",
   "metadata": {},
   "source": [
    "# Pongsagul Boonrub 10 Oct 2020."
   ]
  },
  {
   "cell_type": "markdown",
   "metadata": {},
   "source": [
    "## Problem 36"
   ]
  },
  {
   "cell_type": "code",
   "execution_count": 1,
   "metadata": {},
   "outputs": [
    {
     "name": "stdout",
     "output_type": "stream",
     "text": [
      "\n",
      "I'm sure that the shells are seashore shells.\n",
      "So if she sells seashells on the seashore,\n",
      "The shells that she sells are seashells I'm sure.\n",
      "She sells seashells on the seashore;\n",
      "$ cat she.txt\n",
      "\n"
     ]
    }
   ],
   "source": [
    "# Problem 36: Write a program reverse.py to print lines of a file in reverse order.\n",
    "\n",
    "# $ cat she.txt\n",
    "# She sells seashells on the seashore;\n",
    "# The shells that she sells are seashells I'm sure. So if she sells seashells on the seashore,\n",
    "# I'm sure that the shells are seashore shells.\n",
    "# $ python reverse.py she.txt\n",
    "# I'm sure that the shells are seashore shells.\n",
    "# So if she sells seashells on the seashore,\n",
    "# The shells that she sells are seashells I'm sure. She sells seashells on the seashore;\n",
    "\n",
    "# for line in open(f):\n",
    "def linecount(filename):\n",
    "    return len(open(filename).readlines())\n",
    "\n",
    "def reverse(filename):\n",
    "    line = open(filename).readlines()\n",
    "    print(''.join(line[::-1]))\n",
    "\n",
    "reverse('she.txt')"
   ]
  },
  {
   "cell_type": "markdown",
   "metadata": {},
   "source": [
    "## Problem 37"
   ]
  },
  {
   "cell_type": "code",
   "execution_count": 2,
   "metadata": {},
   "outputs": [
    {
     "name": "stdout",
     "output_type": "stream",
     "text": [
      "txt.ehs tac $\n",
      ";erohsaes eht no sllehsaes slles ehS\n",
      ".erus m'I sllehsaes era slles ehs taht sllehs ehT\n",
      ",erohsaes eht no sllehsaes slles ehs fi oS\n",
      ".sllehs erohsaes era sllehs eht taht erus m'I\n",
      "\n"
     ]
    }
   ],
   "source": [
    "# Problem 37: Write a program to print each line of a file in reverse order.\n",
    "#;erohsaes eht no sllehsaes slles ehS\n",
    "#,erohsaes eht no sllehsaes slles ehs fi oS .\n",
    "#,erus m'I sllehsaes era slles ehs taht sllehs eh\n",
    "#.sllehs erohsaes era sllehs eht taht erus m'I\n",
    "def reverse37(filename):\n",
    "    line = open(filename).readlines()\n",
    "    for e in line:\n",
    "        print(e.strip()[::-1])\n",
    "\n",
    "reverse37('she.txt')"
   ]
  },
  {
   "cell_type": "markdown",
   "metadata": {},
   "source": [
    "## Problem 38"
   ]
  },
  {
   "cell_type": "code",
   "execution_count": 3,
   "metadata": {},
   "outputs": [
    {
     "name": "stdout",
     "output_type": "stream",
     "text": [
      "head\n",
      "$ cat she.txt\n",
      "She sells seashells on the seashore;\n",
      "The shells that she sells are seashells I'm sure.\n",
      "So if she sells seashells on the seashore,\n",
      "I'm sure that the shells are seashore shells.\n",
      "\n",
      "\n",
      "\n",
      "tail\n",
      "$ cat she.txt\n",
      "She sells seashells on the seashore;\n",
      "The shells that she sells are seashells I'm sure.\n",
      "So if she sells seashells on the seashore,\n",
      "I'm sure that the shells are seashore shells.\n",
      "\n",
      "\n"
     ]
    }
   ],
   "source": [
    "#Problem 38: Implement unix commands head and tail. The head and tail commands take a file as argu-ment and prints its first and last 10 lines of the file respectively.\n",
    "\n",
    "# head.py \n",
    "print('head')\n",
    "line = open('she.txt').readlines()\n",
    "print(''.join(line[:10]))\n",
    "\n",
    "print('\\ntail')\n",
    "# tail.py \n",
    "\n",
    "line = open('she.txt').readlines()\n",
    "print(''.join(line[-10:]))"
   ]
  },
  {
   "cell_type": "markdown",
   "metadata": {},
   "source": [
    "## Problem 39"
   ]
  },
  {
   "cell_type": "code",
   "execution_count": null,
   "metadata": {},
   "outputs": [],
   "source": [
    "# Problem 39: Implement unix command grep. The grep command takes a string and a file as arguments and prints all lines in the file which contain the specified string.\n",
    "\n",
    "# grep.py \n",
    "import sys\n",
    "\n",
    "line = open(sys.argv[1]).readlines()\n",
    "for e in line :\n",
    "\tif sys.argv[2] in e :\n",
    "\t\tprint(e,end='') "
   ]
  },
  {
   "cell_type": "markdown",
   "metadata": {},
   "source": [
    "## Problem 40"
   ]
  },
  {
   "cell_type": "code",
   "execution_count": null,
   "metadata": {},
   "outputs": [],
   "source": [
    "# Problem 40: Write a program wrap.py that takes filename and width as aruguments and wraps the lines longer than width.\n",
    "\n",
    "import sys\n",
    "line = open(sys.argv[1]).readlines()\n",
    "for e in line:\n",
    "    e = e.strip()\n",
    "    while len(e) >= int(sys.argv[2]):\n",
    "        print(e[:int(sys.argv[2])])\n",
    "        e = e[int(sys.argv[2]):]\n",
    "        if len(e) < int(sys.argv[2]):\n",
    "            print(e)"
   ]
  },
  {
   "cell_type": "code",
   "execution_count": null,
   "metadata": {},
   "outputs": [],
   "source": [
    "a = '12345678901232'\n",
    "while len(a) >= 5:\n",
    "    print(a[:5])\n",
    "    a = a[5:]\n",
    "if len(a) > 0:\n",
    "    print(a)"
   ]
  }
 ],
 "metadata": {
  "kernelspec": {
   "display_name": "Python 3",
   "language": "python",
   "name": "python3"
  },
  "language_info": {
   "codemirror_mode": {
    "name": "ipython",
    "version": 3
   },
   "file_extension": ".py",
   "mimetype": "text/x-python",
   "name": "python",
   "nbconvert_exporter": "python",
   "pygments_lexer": "ipython3",
   "version": "3.7.6"
  }
 },
 "nbformat": 4,
 "nbformat_minor": 4
}
