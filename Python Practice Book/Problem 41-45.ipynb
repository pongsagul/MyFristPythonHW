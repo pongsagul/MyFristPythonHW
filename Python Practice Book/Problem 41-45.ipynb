{
 "cells": [
  {
   "cell_type": "markdown",
   "metadata": {},
   "source": [
    "# Python Practice Book 41-45"
   ]
  },
  {
   "cell_type": "markdown",
   "metadata": {},
   "source": [
    "# Pongsagul Boonrub 10 Oct 2020."
   ]
  },
  {
   "cell_type": "markdown",
   "metadata": {},
   "source": [
    "## Problem 41"
   ]
  },
  {
   "cell_type": "code",
   "execution_count": 1,
   "metadata": {},
   "outputs": [
    {
     "name": "stdout",
     "output_type": "stream",
     "text": [
      "She sells seashells on the\n",
      "seashore;\n",
      "he shells that she sells are\n",
      "are seashells I'm sure.\n",
      "So if she sells seashells\n",
      "seashells on the seashore,\n",
      "seashore,\n",
      "I'm sure that the shells\n",
      "shells are seashore shells.\n",
      "shells.\n"
     ]
    }
   ],
   "source": [
    "# Problem 41: The above wrap program is not so nice because it is breaking the line at middle of any word. Can you write a new program wordwrap.py that works like wrap.py, but breaks the line only at the word boundaries?\n",
    "\n",
    "# wordwrap.py\n",
    "\n",
    "import sys\n",
    "# f = sys.argv[1]\n",
    "# c = int(sys.argv[2])\n",
    "f = 'she.txt'\n",
    "c = int('30')\n",
    "\n",
    "line = open(f).readlines()\n",
    "for e in line:\n",
    "    e,a = e.split(),0\n",
    "    for i in e:\n",
    "        if a == 0 :\n",
    "            a += len(i)\n",
    "            print(i,end='')\n",
    "        elif a > 0 and a + len(i) < c:\n",
    "            a += len(i)+1\n",
    "            print(' '+i,end='')\n",
    "        if a + len(i) >= c:\n",
    "            print('\\n'+i,end='')\n",
    "            a = len(i)\n",
    "    print()"
   ]
  },
  {
   "cell_type": "markdown",
   "metadata": {},
   "source": [
    "## Problem 42"
   ]
  },
  {
   "cell_type": "code",
   "execution_count": 2,
   "metadata": {},
   "outputs": [
    {
     "name": "stdout",
     "output_type": "stream",
     "text": [
      "                       She sells seashells on the seashore;\n",
      "                 he shells that she sells are seashells I'm sure.\n",
      "                    So if she sells seashells on the seashore,\n",
      "                  I'm sure that the shells are seashore shells.\n"
     ]
    }
   ],
   "source": [
    "# Problem 42: Write a program center_align.py to center align all lines in the given file.\n",
    "\n",
    "# center_align.py\n",
    "import sys\n",
    "# f = sys.argv[1]\n",
    "f = 'she.txt'\n",
    "lines = open(f).readlines()\n",
    "for e in lines:\n",
    "    print(' '*(40-len(e)//2),e,end='')\n",
    "\n",
    "# $ python center_align.py she.txt"
   ]
  },
  {
   "cell_type": "markdown",
   "metadata": {},
   "source": [
    "## Problem 43\n",
    "#### Provide an implementation for zip function using list comprehensions."
   ]
  },
  {
   "cell_type": "code",
   "execution_count": 3,
   "metadata": {},
   "outputs": [
    {
     "data": {
      "text/plain": [
       "[[1, 'a'], [2, 'b'], [3, 'c']]"
      ]
     },
     "execution_count": 3,
     "metadata": {},
     "output_type": "execute_result"
    }
   ],
   "source": [
    "def izip(a,b):\n",
    "    return [[a[i],b[i]] for i in range(len(a))]\n",
    "\n",
    "izip([1, 2, 3], [\"a\", \"b\", \"c\"])"
   ]
  },
  {
   "cell_type": "markdown",
   "metadata": {},
   "source": [
    "## Problem 44\n",
    "#### Python provides a built-in function map that applies a function to each element of a list. Provide an implementation for map using list comprehensions."
   ]
  },
  {
   "cell_type": "code",
   "execution_count": 7,
   "metadata": {},
   "outputs": [
    {
     "data": {
      "text/plain": [
       "[0, 1, 4, 9, 16]"
      ]
     },
     "execution_count": 7,
     "metadata": {},
     "output_type": "execute_result"
    }
   ],
   "source": [
    "def myMap(f,l) :\n",
    "    return [f(i) for i in l ]\n",
    "\n",
    "def square1(x): return x*x\n",
    "myMap(square1, range(5))"
   ]
  },
  {
   "cell_type": "markdown",
   "metadata": {},
   "source": [
    "## Problem 45\n",
    "#### Python provides a built-in function filter(f, a) that returns items of the list a for which f(item) returns true. Provide an implementation for filter using list comprehensions."
   ]
  },
  {
   "cell_type": "code",
   "execution_count": 10,
   "metadata": {},
   "outputs": [
    {
     "data": {
      "text/plain": [
       "[0, 2, 4, 6, 8]"
      ]
     },
     "execution_count": 10,
     "metadata": {},
     "output_type": "execute_result"
    }
   ],
   "source": [
    "def filter1(f,l) :\n",
    "    return [e for e in l if f(e)]\n",
    "\n",
    "def even1(x): return x %2 == 0\n",
    "filter1(even1, range(10))"
   ]
  }
 ],
 "metadata": {
  "kernelspec": {
   "display_name": "Python 3",
   "language": "python",
   "name": "python3"
  },
  "language_info": {
   "codemirror_mode": {
    "name": "ipython",
    "version": 3
   },
   "file_extension": ".py",
   "mimetype": "text/x-python",
   "name": "python",
   "nbconvert_exporter": "python",
   "pygments_lexer": "ipython3",
   "version": "3.7.6"
  }
 },
 "nbformat": 4,
 "nbformat_minor": 4
}
