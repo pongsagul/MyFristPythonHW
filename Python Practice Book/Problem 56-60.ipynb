{
 "cells": [
  {
   "cell_type": "markdown",
   "metadata": {},
   "source": [
    "# Python Practice Book 36-40"
   ]
  },
  {
   "cell_type": "markdown",
   "metadata": {},
   "source": [
    "# Pongsagul Boonrub 26 Oct 2020."
   ]
  },
  {
   "cell_type": "markdown",
   "metadata": {},
   "source": [
    "## Problem 56\n",
    "#### Write a function valuesort to sort values of a dictionary based on the key."
   ]
  },
  {
   "cell_type": "code",
   "execution_count": 1,
   "metadata": {},
   "outputs": [
    {
     "data": {
      "text/plain": [
       "[3, 1, 2]"
      ]
     },
     "execution_count": 1,
     "metadata": {},
     "output_type": "execute_result"
    }
   ],
   "source": [
    "def valuesort(d):\n",
    "    return([i for e,i in list(sorted(d.items()))])\n",
    "\n",
    "valuesort({'x': 1, 'y': 2, 'a': 3})  "
   ]
  },
  {
   "cell_type": "markdown",
   "metadata": {},
   "source": [
    "## Problem 57\n",
    "#### Write a function valuesort to sort values of a dictionary based on the key."
   ]
  },
  {
   "cell_type": "code",
   "execution_count": 2,
   "metadata": {},
   "outputs": [
    {
     "data": {
      "text/plain": [
       "{1: 'x', 2: 'y', 3: 'z'}"
      ]
     },
     "execution_count": 2,
     "metadata": {},
     "output_type": "execute_result"
    }
   ],
   "source": [
    "def invertdict(d):\n",
    "    r = {}\n",
    "    for k,v in d.items():\n",
    "        r[v] = k\n",
    "    return r\n",
    "\n",
    "invertdict({'x': 1, 'y': 2, 'z': 3}) "
   ]
  },
  {
   "cell_type": "code",
   "execution_count": 3,
   "metadata": {},
   "outputs": [
    {
     "data": {
      "text/plain": [
       "{1: 'x', 2: 'y', 3: 'z'}"
      ]
     },
     "execution_count": 3,
     "metadata": {},
     "output_type": "execute_result"
    }
   ],
   "source": [
    "def invertdict(d):\n",
    "    return {v: k for k, v in d.items()}\n",
    "\n",
    "invertdict({'x': 1, 'y': 2, 'z': 3}) "
   ]
  },
  {
   "cell_type": "code",
   "execution_count": 4,
   "metadata": {},
   "outputs": [
    {
     "data": {
      "text/plain": [
       "{1: 'x', 2: 'y', 3: 'z'}"
      ]
     },
     "execution_count": 4,
     "metadata": {},
     "output_type": "execute_result"
    }
   ],
   "source": [
    "d = {'x': 1, 'y': 2, 'z': 3}\n",
    "# d = [ e for [k,v] in d.items() for e in [v,k]]\n",
    "d = {v: k for k, v in d.items()}\n",
    "d"
   ]
  },
  {
   "cell_type": "markdown",
   "metadata": {},
   "source": [
    "## Problem 58\n",
    "#### Write a program to list all files in the given directory."
   ]
  },
  {
   "cell_type": "code",
   "execution_count": 5,
   "metadata": {},
   "outputs": [
    {
     "name": "stdout",
     "output_type": "stream",
     "text": [
      ".\\40.txt\n",
      ".\\a.csv\n",
      ".\\a.txt\n",
      ".\\problem 1-10 .ipynb\n",
      ".\\problem 11-15.ipynb\n",
      ".\\problem 16-20.ipynb\n",
      ".\\Problem 21-25.ipynb\n",
      ".\\Problem 26-30.ipynb\n",
      ".\\Problem 31-35.ipynb\n",
      ".\\Problem 36-40.ipynb\n",
      ".\\Problem 41-45.ipynb\n",
      ".\\Problem 46-50.ipynb\n",
      ".\\Problem 50-55.ipynb\n",
      ".\\Problem 56-60.ipynb\n",
      ".\\she.txt\n",
      ".\\.ipynb_checkpoints\\problem 1-10 -checkpoint.ipynb\n",
      ".\\.ipynb_checkpoints\\Problem 36-40-checkpoint.ipynb\n",
      ".\\.ipynb_checkpoints\\Problem 46-50-checkpoint.ipynb\n",
      ".\\.ipynb_checkpoints\\Problem 50-55-checkpoint.ipynb\n",
      ".\\.ipynb_checkpoints\\Problem 56-60-checkpoint.ipynb\n"
     ]
    }
   ],
   "source": [
    "import os\n",
    "\n",
    "for currentpath, folders, files in os.walk('.'):\n",
    "    for file in files:\n",
    "        print(os.path.join(currentpath, file))"
   ]
  },
  {
   "cell_type": "markdown",
   "metadata": {},
   "source": [
    "## Problem 58\n",
    "#### Write a program to list all files in the given directory."
   ]
  },
  {
   "cell_type": "code",
   "execution_count": 6,
   "metadata": {},
   "outputs": [
    {
     "name": "stdout",
     "output_type": "stream",
     "text": [
      ".\\40.txt\n",
      ".\\a.csv\n",
      ".\\a.txt\n",
      ".\\problem 1-10 .ipynb\n",
      ".\\problem 11-15.ipynb\n",
      ".\\problem 16-20.ipynb\n",
      ".\\Problem 21-25.ipynb\n",
      ".\\Problem 26-30.ipynb\n",
      ".\\Problem 31-35.ipynb\n",
      ".\\Problem 36-40.ipynb\n",
      ".\\Problem 41-45.ipynb\n",
      ".\\Problem 46-50.ipynb\n",
      ".\\Problem 50-55.ipynb\n",
      ".\\Problem 56-60.ipynb\n",
      ".\\she.txt\n",
      ".\\.ipynb_checkpoints\\problem 1-10 -checkpoint.ipynb\n",
      ".\\.ipynb_checkpoints\\Problem 36-40-checkpoint.ipynb\n",
      ".\\.ipynb_checkpoints\\Problem 46-50-checkpoint.ipynb\n",
      ".\\.ipynb_checkpoints\\Problem 50-55-checkpoint.ipynb\n",
      ".\\.ipynb_checkpoints\\Problem 56-60-checkpoint.ipynb\n"
     ]
    }
   ],
   "source": [
    "import os\n",
    "\n",
    "for r, d, f in os.walk('.'):\n",
    "    for file in f:\n",
    "        print(os.path.join(r, file))"
   ]
  },
  {
   "cell_type": "code",
   "execution_count": 7,
   "metadata": {},
   "outputs": [
    {
     "name": "stdout",
     "output_type": "stream",
     "text": [
      ".ipynb_checkpoints\n",
      "40.txt\n",
      "a.csv\n",
      "a.txt\n",
      "problem 1-10 .ipynb\n",
      "problem 11-15.ipynb\n",
      "problem 16-20.ipynb\n",
      "Problem 21-25.ipynb\n",
      "Problem 26-30.ipynb\n",
      "Problem 31-35.ipynb\n",
      "Problem 36-40.ipynb\n",
      "Problem 41-45.ipynb\n",
      "Problem 46-50.ipynb\n",
      "Problem 50-55.ipynb\n",
      "Problem 56-60.ipynb\n",
      "she.txt\n"
     ]
    }
   ],
   "source": [
    "import os\n",
    " \n",
    "for f in os.listdir('.'):\n",
    "\tprint(f)"
   ]
  },
  {
   "cell_type": "markdown",
   "metadata": {},
   "source": [
    "## Problem 59: \n",
    "#### Write a program extcount.py to count number of files for each extension in the given directory. The program should take a directory name as argument and print count and extension for each available file extension."
   ]
  },
  {
   "cell_type": "code",
   "execution_count": 8,
   "metadata": {},
   "outputs": [
    {
     "name": "stdout",
     "output_type": "stream",
     "text": [
      "11 ipynb\n",
      "3 txt\n",
      "1 ipynb_checkpoints\n",
      "1 csv\n"
     ]
    }
   ],
   "source": [
    "import sys\n",
    "import os\n",
    "# path = sys.argv[1]\n",
    "path = '.'\n",
    "files = []\n",
    "for f in os.listdir(path):\n",
    "    files.append(f)\n",
    "ext = [e.split('.')[-1] for e in files]\n",
    "# print(ext)\n",
    "frequency = {}\n",
    "for w in ext:\n",
    "    frequency[w] = frequency.get(w, 0) + 1\n",
    "\n",
    "extcount = {k: v for k, v in sorted(frequency.items(), key=lambda item: item[1], reverse=True)}\n",
    "extcount = [print(v,k) for k, v in extcount.items()]"
   ]
  },
  {
   "cell_type": "code",
   "execution_count": 9,
   "metadata": {},
   "outputs": [
    {
     "name": "stdout",
     "output_type": "stream",
     "text": [
      ".\\.ipynb_checkpoints\n"
     ]
    }
   ],
   "source": [
    "import os\n",
    "\n",
    "path = '.'\n",
    "\n",
    "folders = []\n",
    "\n",
    "# r=root, d=directories, f = files\n",
    "for r, d, f in os.walk(path):\n",
    "    for folder in d:\n",
    "        folders.append(os.path.join(r, folder))\n",
    "\n",
    "for f in folders:\n",
    "    print(f)"
   ]
  },
  {
   "cell_type": "markdown",
   "metadata": {},
   "source": [
    "## Problem 60: \n",
    "#### Write a program to list all the files in the given directory along with their length and last modification time. The output should contain one line for each file containing filename, length and modification date separated by tabs. Hint: see help for os.stat."
   ]
  },
  {
   "cell_type": "code",
   "execution_count": 10,
   "metadata": {},
   "outputs": [
    {
     "name": "stdout",
     "output_type": "stream",
     "text": [
      "0\t2020-10-26 13:10:41.262819\t.ipynb_checkpoints\n",
      "207\t2020-10-26 12:44:45.101529\t40.txt\n",
      "31\t2020-10-26 13:00:17.778030\ta.csv\n",
      "23\t2020-10-26 12:57:10.825162\ta.txt\n",
      "5608\t2020-10-26 12:48:13.610062\tproblem 1-10 .ipynb\n",
      "3887\t2020-10-26 12:41:12.258528\tproblem 11-15.ipynb\n",
      "3119\t2020-10-26 12:41:12.260526\tproblem 16-20.ipynb\n",
      "7083\t2020-10-26 12:41:12.244536\tProblem 21-25.ipynb\n",
      "6662\t2020-10-26 12:41:12.247535\tProblem 26-30.ipynb\n",
      "5191\t2020-10-26 12:41:12.249534\tProblem 31-35.ipynb\n",
      "11306\t2020-10-26 13:11:55.868555\tProblem 36-40.ipynb\n",
      "4749\t2020-10-26 12:41:12.254530\tProblem 41-45.ipynb\n",
      "5377\t2020-10-26 13:04:45.670867\tProblem 46-50.ipynb\n",
      "8708\t2020-10-26 13:08:38.140641\tProblem 50-55.ipynb\n",
      "4280\t2020-10-26 13:12:49.674920\tProblem 56-60.ipynb\n",
      "723\t2020-10-26 12:44:45.134510\tshe.txt\n"
     ]
    }
   ],
   "source": [
    "import datetime\n",
    "import os\n",
    "\n",
    "my_path='.'\n",
    "\n",
    "for item in os.scandir(my_path):\n",
    "     print('\\t'.join(str(e) for e in [item.stat().st_size, datetime.datetime.fromtimestamp(item.stat().st_atime),item.name]))"
   ]
  },
  {
   "cell_type": "code",
   "execution_count": null,
   "metadata": {},
   "outputs": [],
   "source": []
  }
 ],
 "metadata": {
  "kernelspec": {
   "display_name": "Python 3",
   "language": "python",
   "name": "python3"
  },
  "language_info": {
   "codemirror_mode": {
    "name": "ipython",
    "version": 3
   },
   "file_extension": ".py",
   "mimetype": "text/x-python",
   "name": "python",
   "nbconvert_exporter": "python",
   "pygments_lexer": "ipython3",
   "version": "3.7.6"
  }
 },
 "nbformat": 4,
 "nbformat_minor": 4
}
